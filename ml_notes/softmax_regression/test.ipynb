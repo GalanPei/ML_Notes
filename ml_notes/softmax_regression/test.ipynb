{
 "cells": [
  {
   "cell_type": "code",
   "execution_count": 46,
   "metadata": {},
   "outputs": [],
   "source": [
    "import torch\n",
    "import regression\n",
    "import matplotlib.pyplot as plt\n",
    "from torch import nn"
   ]
  },
  {
   "cell_type": "code",
   "execution_count": 55,
   "metadata": {},
   "outputs": [],
   "source": [
    "def fake_data_LR(num):\n",
    "    coord = torch.rand(num, 2)\n",
    "    k = torch.rand(1).item()\n",
    "    b = - k / 2 + .5\n",
    "    y = []\n",
    "    for x1, x2 in coord:\n",
    "        if k * x1 + b > x2:\n",
    "            y.append(1)\n",
    "        else:\n",
    "            y.append(0)\n",
    "    return coord, torch.Tensor(y).reshape(-1, 1)\n",
    "    "
   ]
  },
  {
   "cell_type": "code",
   "execution_count": 58,
   "metadata": {},
   "outputs": [],
   "source": [
    "def train(x, y):\n",
    "    model = regression.LogisticRegression()\n",
    "    optimizer = torch.optim.Adam(model.parameters())\n",
    "    loss = nn.BCELoss()\n",
    "    for epoch in range(10000):\n",
    "        predict = model(x)\n",
    "        _loss = loss(predict, y)\n",
    "        optimizer.zero_grad()\n",
    "        _loss.backward()\n",
    "        optimizer.step()\n",
    "        if epoch % 500 == 0:\n",
    "            print(f\"epoch : {epoch}, loss : {_loss.item()}\")\n",
    "    return model\n",
    "        \n",
    "    "
   ]
  },
  {
   "cell_type": "code",
   "execution_count": 59,
   "metadata": {},
   "outputs": [
    {
     "name": "stdout",
     "output_type": "stream",
     "text": [
      "epoch : 0, loss : 0.6573216915130615\n",
      "epoch : 500, loss : 0.5872460007667542\n",
      "epoch : 1000, loss : 0.5309010148048401\n",
      "epoch : 1500, loss : 0.4842890501022339\n",
      "epoch : 2000, loss : 0.44510436058044434\n",
      "epoch : 2500, loss : 0.41162729263305664\n",
      "epoch : 3000, loss : 0.38259997963905334\n",
      "epoch : 3500, loss : 0.35710734128952026\n",
      "epoch : 4000, loss : 0.33447960019111633\n",
      "epoch : 4500, loss : 0.31422051787376404\n",
      "epoch : 5000, loss : 0.2959555983543396\n",
      "epoch : 5500, loss : 0.2793963551521301\n",
      "epoch : 6000, loss : 0.2643170654773712\n",
      "epoch : 6500, loss : 0.25052782893180847\n",
      "epoch : 7000, loss : 0.23788076639175415\n",
      "epoch : 7500, loss : 0.22624728083610535\n",
      "epoch : 8000, loss : 0.21551913022994995\n",
      "epoch : 8500, loss : 0.20560313761234283\n",
      "epoch : 9000, loss : 0.19641856849193573\n",
      "epoch : 9500, loss : 0.18789497017860413\n"
     ]
    },
    {
     "data": {
      "text/plain": [
       "LogisticRegression(\n",
       "  (linear): Linear(in_features=2, out_features=1, bias=True)\n",
       "  (sigmoid): Sigmoid()\n",
       ")"
      ]
     },
     "execution_count": 59,
     "metadata": {},
     "output_type": "execute_result"
    }
   ],
   "source": [
    "x, y =fake_data_LR(1000)\n",
    "train(x, y)\n"
   ]
  },
  {
   "cell_type": "code",
   "execution_count": null,
   "metadata": {},
   "outputs": [],
   "source": []
  }
 ],
 "metadata": {
  "kernelspec": {
   "display_name": "Python 3.7.6 ('base')",
   "language": "python",
   "name": "python3"
  },
  "language_info": {
   "codemirror_mode": {
    "name": "ipython",
    "version": 3
   },
   "file_extension": ".py",
   "mimetype": "text/x-python",
   "name": "python",
   "nbconvert_exporter": "python",
   "pygments_lexer": "ipython3",
   "version": "3.7.6"
  },
  "orig_nbformat": 4,
  "vscode": {
   "interpreter": {
    "hash": "4fbfbc6cca4fa42467a49ed69ae70de5b79ade7c008f3bdbd0fce51b69096589"
   }
  }
 },
 "nbformat": 4,
 "nbformat_minor": 2
}
