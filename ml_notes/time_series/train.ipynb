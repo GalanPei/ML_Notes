{
 "cells": [
  {
   "cell_type": "code",
   "execution_count": 1,
   "metadata": {},
   "outputs": [],
   "source": [
    "import torch\n",
    "from torch import nn\n",
    "import pandas as pd\n",
    "import matplotlib.pyplot as plt"
   ]
  },
  {
   "cell_type": "code",
   "execution_count": 118,
   "metadata": {},
   "outputs": [],
   "source": [
    "class NaiveModel(nn.Module):\n",
    "    def __init__(self) -> None:\n",
    "        super().__init__()\n",
    "        self.linear = nn.Sequential(\n",
    "            nn.Linear(2, 1000), nn.ReLU(), nn.Linear(1000, 2), nn.ReLU())\n",
    "\n",
    "    def forward(self, X):\n",
    "        return self.linear(X)\n"
   ]
  },
  {
   "cell_type": "code",
   "execution_count": 119,
   "metadata": {},
   "outputs": [],
   "source": [
    "def train(x, y, model, epoch_num=1000):\n",
    "    optimizer = torch.optim.Adam(model.parameters(), lr=1e-3)\n",
    "    loss = nn.MSELoss()\n",
    "    for epoch in range(epoch_num):\n",
    "        predict = model(x)\n",
    "        _loss = loss(predict, y)\n",
    "        optimizer.zero_grad()\n",
    "        _loss.backward()\n",
    "        optimizer.step()\n",
    "        if epoch % (epoch_num // 20) == 0:\n",
    "            print(f\"epoch : {epoch}, loss : {_loss.item()}\")\n",
    "\n",
    "    return model"
   ]
  },
  {
   "cell_type": "code",
   "execution_count": 120,
   "metadata": {},
   "outputs": [],
   "source": [
    "def read_files(file_names):\n",
    "    frames = []\n",
    "    for file in file_names:\n",
    "        df = pd.read_csv(file, encoding=\"utf-8\")\n",
    "        frames.append(df)\n",
    "    return pd.concat(frames).reset_index(drop=True)\n",
    "        "
   ]
  },
  {
   "cell_type": "code",
   "execution_count": 217,
   "metadata": {},
   "outputs": [],
   "source": [
    "def normalize(x):\n",
    "    min_x = torch.min(x)\n",
    "    max_x = torch.max(x)\n",
    "    if torch.abs(min_x - max_x) < 1e-6:\n",
    "        return torch.ones_like(x)\n",
    "    return (x - min_x) / (max_x - min_x)\n",
    "\n",
    "def fake_data(num):\n",
    "    x_list, y_list = [], []\n",
    "    \n",
    "    for i in range(num):\n",
    "        t = torch.range(1, 9)\n",
    "        t = torch.reshape(t, (9, 1))\n",
    "        x = torch.rand(1).item() * torch.ones_like(t) * torch.rand(1).item() * 100\n",
    "        y = t ** 1.5 + torch.abs(torch.randn_like(t))\n",
    "        z = 1.2 * (y ** 1.2 + x**1.5) + torch.abs(torch.randn_like(t))\n",
    "        x = normalize(x)\n",
    "        y = normalize(y)\n",
    "        t = normalize(t)\n",
    "        z = normalize(z)\n",
    "        x = torch.concat((x, t), 1)\n",
    "        x_list.append(x)\n",
    "        y = torch.concat((y, z), 1)\n",
    "        y_list.append(y)\n",
    "    return x_list, y_list\n",
    "        \n",
    "        "
   ]
  },
  {
   "cell_type": "code",
   "execution_count": 218,
   "metadata": {},
   "outputs": [
    {
     "name": "stderr",
     "output_type": "stream",
     "text": [
      "/Users/galan/opt/anaconda3/lib/python3.7/site-packages/ipykernel_launcher.py:12: UserWarning: torch.range is deprecated and will be removed in a future release because its behavior is inconsistent with Python's range builtin. Instead, use torch.arange, which produces values in [start, end).\n",
      "  if sys.path[0] == \"\":\n"
     ]
    }
   ],
   "source": [
    "_data = fake_data(100)\n",
    "train_x, train_y = _data[0][:80], _data[1][:80]\n",
    "train_x = torch.concat(tuple(train_x), 0)\n",
    "train_y = torch.concat(tuple(train_y), 0)"
   ]
  },
  {
   "cell_type": "code",
   "execution_count": 219,
   "metadata": {},
   "outputs": [
    {
     "name": "stdout",
     "output_type": "stream",
     "text": [
      "epoch : 0, loss : 0.1712976098060608\n",
      "epoch : 50, loss : 0.0015536652645096183\n",
      "epoch : 100, loss : 0.0009854394011199474\n",
      "epoch : 150, loss : 0.0008506288868375123\n",
      "epoch : 200, loss : 0.000833745812997222\n",
      "epoch : 250, loss : 0.0008257051231339574\n",
      "epoch : 300, loss : 0.0008212169632315636\n",
      "epoch : 350, loss : 0.0007818887825123966\n",
      "epoch : 400, loss : 0.0007086219266057014\n",
      "epoch : 450, loss : 0.0006998900789767504\n",
      "epoch : 500, loss : 0.0006971010006964207\n",
      "epoch : 550, loss : 0.0006959012243896723\n",
      "epoch : 600, loss : 0.0006952580297365785\n",
      "epoch : 650, loss : 0.0006948991795070469\n",
      "epoch : 700, loss : 0.0006946960929781199\n",
      "epoch : 750, loss : 0.0006945821223780513\n",
      "epoch : 800, loss : 0.0006945168133825064\n",
      "epoch : 850, loss : 0.000694479385856539\n",
      "epoch : 900, loss : 0.0006944580818526447\n",
      "epoch : 950, loss : 0.0006944454507902265\n"
     ]
    }
   ],
   "source": [
    "model = NaiveModel()\n",
    "model = train(train_x, train_y, model)"
   ]
  },
  {
   "cell_type": "code",
   "execution_count": 220,
   "metadata": {},
   "outputs": [
    {
     "data": {
      "text/plain": [
       "tensor(0.0008, grad_fn=<MseLossBackward0>)"
      ]
     },
     "execution_count": 220,
     "metadata": {},
     "output_type": "execute_result"
    }
   ],
   "source": [
    "test_x, test_y = _data[0][80:], _data[1][80:]\n",
    "test_x = torch.concat(tuple(test_x), 0)\n",
    "test_y = torch.concat(tuple(test_y), 0)\n",
    "predict_y = model(test_x)\n",
    "nn.MSELoss()(predict_y, test_y)"
   ]
  },
  {
   "cell_type": "code",
   "execution_count": 221,
   "metadata": {},
   "outputs": [],
   "source": [
    "plot_x = [test_x[i * 9: i * 9 + 9] for i in range(len(test_x)) if i * 9 + 9 < len(test_x)]\n",
    "plot_y = [test_y[i * 9: i * 9 + 9] for i in range(len(test_y)) if i * 9 + 9 < len(test_y)]\n",
    "_pre_y = predict_y.data.numpy()\n",
    "plot_pre = [_pre_y[i * 9: i * 9 + 9] for i in range(len(_pre_y)) if i * 9 + 9 < len(_pre_y)]"
   ]
  },
  {
   "cell_type": "code",
   "execution_count": 224,
   "metadata": {},
   "outputs": [
    {
     "data": {
      "text/plain": [
       "<matplotlib.legend.Legend at 0x7fe244021f50>"
      ]
     },
     "execution_count": 224,
     "metadata": {},
     "output_type": "execute_result"
    },
    {
     "data": {
      "image/png": "[encoded data removed]",
      "text/plain": [
       "<Figure size 432x288 with 1 Axes>"
      ]
     },
     "metadata": {
      "needs_background": "light"
     },
     "output_type": "display_data"
    }
   ],
   "source": [
    "x_axis = plot_x[0][:, 1]\n",
    "plt.plot(x_axis, plot_y[6][:, 1], label=\"ground truth\")\n",
    "plt.plot(x_axis, plot_pre[6][:, 1], label=\"predict\")\n",
    "plt.legend()\n",
    "    "
   ]
  },
  {
   "cell_type": "code",
   "execution_count": null,
   "metadata": {},
   "outputs": [],
   "source": []
  }
 ],
 "metadata": {
  "kernelspec": {
   "display_name": "Python 3.7.6 ('base')",
   "language": "python",
   "name": "python3"
  },
  "language_info": {
   "codemirror_mode": {
    "name": "ipython",
    "version": 3
   },
   "file_extension": ".py",
   "mimetype": "text/x-python",
   "name": "python",
   "nbconvert_exporter": "python",
   "pygments_lexer": "ipython3",
   "version": "3.7.6"
  },
  "orig_nbformat": 4,
  "vscode": {
   "interpreter": {
    "hash": "4fbfbc6cca4fa42467a49ed69ae70de5b79ade7c008f3bdbd0fce51b69096589"
   }
  }
 },
 "nbformat": 4,
 "nbformat_minor": 2
}
